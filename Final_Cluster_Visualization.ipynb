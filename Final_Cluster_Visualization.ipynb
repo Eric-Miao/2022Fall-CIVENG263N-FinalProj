{
 "cells": [
  {
   "cell_type": "code",
   "execution_count": null,
   "id": "95c2de0b-5e2d-458d-817f-4a0a403eb3bc",
   "metadata": {},
   "outputs": [],
   "source": [
    "import folium\n",
    "from folium import plugins\n",
    "from folium.plugins import HeatMap, HeatMapWithTime\n",
    "\n",
    "import pandas as pd\n",
    "import matplotlib.pyplot as plt\n",
    "import seaborn as sns\n",
    "import numpy as np\n",
    "from datetime import datetime, timedelta\n",
    "from sklearn.cluster import KMeans\n",
    "\n",
    "import branca\n",
    "import branca.colormap as cm\n",
    "%matplotlib inline"
   ]
  },
  {
   "cell_type": "markdown",
   "id": "a5f6f9c8-63a7-44a1-95e8-2ee75285d6aa",
   "metadata": {
    "tags": []
   },
   "source": [
    "# Read Data"
   ]
  },
  {
   "cell_type": "code",
   "execution_count": null,
   "id": "df5e070d-ffdc-4d97-b48a-9d2cfa914b74",
   "metadata": {},
   "outputs": [],
   "source": [
    "poi_data = pd.read_csv('POI_price_multi_index_sheet.csv',index_col=0) #header=[0, 1]\n",
    "house_data = pd.read_csv('1118transaction.csv')\n",
    "long_lat_data = pd.read_csv('geoinfo_0_4048.csv')\n",
    "long_lat_data.rename(columns = {'Unnamed: 0':'address'}, inplace = True)\n",
    "house_data.rename(columns = {'Address':'address'}, inplace = True)"
   ]
  },
  {
   "cell_type": "code",
   "execution_count": null,
   "id": "79918438-a7de-4e63-b15e-73d8339edb5e",
   "metadata": {},
   "outputs": [],
   "source": [
    "poi_data = poi_data.iloc[2: , :]"
   ]
  },
  {
   "cell_type": "code",
   "execution_count": null,
   "id": "da9ed26a-6a06-4a5a-9745-c02cdd235edf",
   "metadata": {},
   "outputs": [],
   "source": [
    "# get dataframe of specific distance\n",
    "poi_data = poi_data.reset_index()\n",
    "# address = poi_data['address']\n",
    "# poi_500 = poi_data.loc[:,(slice(None),'500')]\n",
    "# poi_500['address'] = address\n",
    "# poi_1000 = poi_data.loc[:,(slice(None),'1000')]\n",
    "# poi_1000['address'] = address\n",
    "# poi_3000 = poi_data.loc[:,(slice(None),'3000')]\n",
    "# poi_3000['address'] = address"
   ]
  },
  {
   "cell_type": "code",
   "execution_count": null,
   "id": "544304fb-9e23-494b-b542-85663a54d3a6",
   "metadata": {},
   "outputs": [],
   "source": [
    "poi_data.rename(columns = {'POI':'address'}, inplace = True)"
   ]
  },
  {
   "cell_type": "code",
   "execution_count": null,
   "id": "2ded1df0-0f5b-4763-97c3-1b30564067ef",
   "metadata": {},
   "outputs": [],
   "source": [
    "# Merge dataframe of two data csv files\n",
    "house_data = pd.merge(house_data,long_lat_data[['address','latitude','longitude']],\n",
    "              on='address', how='inner')"
   ]
  },
  {
   "cell_type": "code",
   "execution_count": null,
   "id": "d2022018-032a-4b84-9484-2d5f3e68763a",
   "metadata": {},
   "outputs": [],
   "source": [
    "house_data"
   ]
  },
  {
   "cell_type": "markdown",
   "id": "524a3261-9f20-4bb2-bb69-df78ddf9694f",
   "metadata": {
    "tags": []
   },
   "source": [
    "# Process Data"
   ]
  },
  {
   "cell_type": "code",
   "execution_count": null,
   "id": "6dcc2942-20c6-4f85-9a5c-99e1fd804d55",
   "metadata": {},
   "outputs": [],
   "source": [
    "house_data.rename(columns = {'Address':'address'}, inplace = True)"
   ]
  },
  {
   "cell_type": "code",
   "execution_count": null,
   "id": "b7ba9ef1-759b-4bbe-9830-690a55d24e23",
   "metadata": {},
   "outputs": [],
   "source": [
    "house_data.columns"
   ]
  },
  {
   "cell_type": "code",
   "execution_count": null,
   "id": "5b0b2365-7b02-4c4d-b397-e6e6844f59a5",
   "metadata": {},
   "outputs": [],
   "source": [
    "# Merge dataframe of two data csv files\n",
    "df = pd.merge(poi_data,house_data\n",
    "              [['address','latitude','longitude','Transaction Date','Total Cost(NTD)',\n",
    "                'Cost per Sqaure Meter','Building Completion Date','Transacted Floor',\n",
    "                'Total Floor','Total Area Transacted (Sqaure Meter)','Bed Rooms',\n",
    "                'Living/Dining Rooms', 'Bathrooms','Main construction Method',\n",
    "                'Type of Building']],\n",
    "              on='address', how='left')"
   ]
  },
  {
   "cell_type": "code",
   "execution_count": null,
   "id": "abf170dc-7dab-479b-802e-5ea0378378bd",
   "metadata": {},
   "outputs": [],
   "source": [
    "df = df[~df['Transacted Floor'].str.contains('，')]"
   ]
  },
  {
   "cell_type": "code",
   "execution_count": null,
   "id": "edc47698-9d2a-4cfa-9a9f-b8f695568484",
   "metadata": {},
   "outputs": [],
   "source": [
    "df['Type of Building'].value_counts()"
   ]
  },
  {
   "cell_type": "code",
   "execution_count": null,
   "id": "8d1e0433-5aad-49df-ba95-7753d29fe80a",
   "metadata": {},
   "outputs": [],
   "source": [
    "df.loc[df['Type of Building'] == \"Store (1F)(店鋪)\", \"Type of Building\"] = 'Others'\n",
    "df.loc[df['Type of Building'] == \"Office Building \", \"Type of Building\"] = 'Others'"
   ]
  },
  {
   "cell_type": "code",
   "execution_count": null,
   "id": "3fbbc2b3-ef5f-4b4b-b296-ecf7d27c8c74",
   "metadata": {},
   "outputs": [],
   "source": [
    "df"
   ]
  },
  {
   "cell_type": "code",
   "execution_count": null,
   "id": "5defe07a-7bbc-4818-858a-2230cea349cb",
   "metadata": {},
   "outputs": [],
   "source": [
    "construction_method_other = ['Brick', 'Steel Constructurer', 'Reinforced Concrete and Reinforced Brick', 'Prestressed Concrete']\n",
    "df.loc[df[\"Main construction Method\"] == \"Steel Constructurer\", \"Main construction Method\"] = 'Other'\n",
    "df.loc[df[\"Main construction Method\"] == \"Brick\", \"Main construction Method\"] = 'Other'\n",
    "df.loc[df[\"Main construction Method\"] == 'Reinforced Concrete and Reinforced Brick',\"Main construction Method\"] = 'Other'\n",
    "df.loc[df[\"Main construction Method\"] == \"Prestressed Concrete\",\"Main construction Method\"] = 'Other'"
   ]
  },
  {
   "cell_type": "code",
   "execution_count": null,
   "id": "17b097a2-7358-4789-a7a2-9b22ccdb5eb7",
   "metadata": {},
   "outputs": [],
   "source": [
    "drop_list = ['全','三11','地下1', '三13','地下層']\n",
    "for i in drop_list:\n",
    "    df = df[~df['Transacted Floor'].str.contains(i)]"
   ]
  },
  {
   "cell_type": "code",
   "execution_count": null,
   "id": "05bc02d0-ef9d-40b9-b9c4-e26f3973ce2e",
   "metadata": {},
   "outputs": [],
   "source": [
    "df['Transacted Floor']=df['Transacted Floor'].astype('int')"
   ]
  },
  {
   "cell_type": "code",
   "execution_count": null,
   "id": "d7ae9a24-9e5e-41e9-9623-53efa5e9d8f2",
   "metadata": {},
   "outputs": [],
   "source": [
    "# clean #value error rows \n",
    "df = df[~df['Building Completion Date'].str.contains('#VALUE!')]"
   ]
  },
  {
   "cell_type": "code",
   "execution_count": null,
   "id": "a1ca584e-af8a-4304-b0c1-2547109cd5c8",
   "metadata": {},
   "outputs": [],
   "source": [
    "df.loc[:,'Building Completion Date'] = pd.to_datetime(df['Building Completion Date'])"
   ]
  },
  {
   "cell_type": "code",
   "execution_count": null,
   "id": "957f03b9-de90-4c68-8011-05dd165d4834",
   "metadata": {},
   "outputs": [],
   "source": [
    "df['transaction year'] = df['Transaction Date'].apply(lambda x:x[:4])\n",
    "df['transaction year'] = df['transaction year'].astype('int')\n",
    "df = df[df['transaction year']<=2022]\n",
    "df['Transaction Date'] = pd.to_datetime(df['Transaction Date'])\n",
    "df['time delta'] = df['Transaction Date'] - df['Building Completion Date']"
   ]
  },
  {
   "cell_type": "code",
   "execution_count": null,
   "id": "a794c350-8889-40fa-a211-574ddbc1f1e5",
   "metadata": {},
   "outputs": [],
   "source": [
    "df['time delta year'] = df['time delta'].astype(\"timedelta64[Y]\")"
   ]
  },
  {
   "cell_type": "markdown",
   "id": "6d7e59a9-9bf0-4407-9c51-77d8565ac461",
   "metadata": {
    "tags": []
   },
   "source": [
    "# Initital Map"
   ]
  },
  {
   "cell_type": "code",
   "execution_count": null,
   "id": "d5f5f3d1-acb1-4564-93ed-9c27b3806643",
   "metadata": {},
   "outputs": [],
   "source": [
    "taipei_center = [25.048651234895390, 121.54614479464894]\n",
    "m = folium.Map(taipei_center, zoom_start=11.5)\n",
    "marker_colors = ['red','blue','gray','orange','green','purple','darkpurple','pink','cadetblue','lightgray','black']"
   ]
  },
  {
   "cell_type": "code",
   "execution_count": null,
   "id": "6095c58c-2315-489e-a9f3-2ca50ac4e5aa",
   "metadata": {},
   "outputs": [],
   "source": [
    "m"
   ]
  },
  {
   "cell_type": "markdown",
   "id": "fb72dca5-a48d-491f-a1ff-352afbb24dca",
   "metadata": {
    "tags": []
   },
   "source": [
    "## Raw data based on Total Price"
   ]
  },
  {
   "cell_type": "code",
   "execution_count": null,
   "id": "7623522c-1735-4055-afff-aae70f209290",
   "metadata": {},
   "outputs": [],
   "source": [
    "df_price = df[['latitude','longitude','Total Cost(NTD)','address']].copy()\n",
    "start_coord = (25.048651234895390, 121.54614479464894)\n",
    "\n",
    "colormap = cm.LinearColormap(colors=['lightblue','blue','darkblue','red'],vmin=5000000,vmax=80000000)\n",
    "\n",
    "maps = folium.Map(location=start_coord, zoom_start=11.5)\n",
    "\n",
    "for index, row in df_price.iterrows():\n",
    "    pop_info = 'Address:' + row['address'] + \"Total Cost (NTD):\" + str(row['Total Cost(NTD)']) + \"Lat/Lon:\" + str(row['latitude']) + str(row['longitude'])\n",
    "    folium.CircleMarker([row['latitude'], row['longitude']],\n",
    "                        radius=2,color=colormap(row['Total Cost(NTD)']), popup=(pop_info)).add_to(maps)\n",
    "maps.add_child(colormap)\n",
    "display(maps)"
   ]
  },
  {
   "cell_type": "markdown",
   "id": "eed21302-b09a-4e9d-b521-a91b60c2ce04",
   "metadata": {
    "tags": []
   },
   "source": [
    "## Raw data based on Cost per squaremeter "
   ]
  },
  {
   "cell_type": "code",
   "execution_count": null,
   "id": "b82426e1-7818-4cbf-9c49-6243f39f2306",
   "metadata": {},
   "outputs": [],
   "source": [
    "df_price_m2 = df[['latitude','longitude','Cost per Sqaure Meter','address']].copy()\n",
    "start_coord = (25.048651234895363, 121.54614479464894)\n",
    "\n",
    "colormap = cm.LinearColormap(colors=['lightblue','blue','red'],vmin=100000,vmax=400000)\n",
    "maps2 = folium.Map(location=start_coord, zoom_start=12)\n",
    "\n",
    "for index, row in df_price_m2.iterrows():\n",
    "    pop_info = 'Address:' + row['address'] + \"Total Cost (NTD):\" + str(row['Cost per Sqaure Meter']) + \"Lat/Lon:\" + str(row['latitude']) + str(row['longitude'])\n",
    "    folium.CircleMarker([row['latitude'], row['longitude']],\n",
    "                        radius=2,color=colormap(row['Cost per Sqaure Meter']), popup=(pop_info)).add_to(maps2)\n",
    "maps2.add_child(colormap)\n",
    "folium.TileLayer('stamentoner').add_to(maps2)\n",
    "display(maps2)"
   ]
  },
  {
   "cell_type": "markdown",
   "id": "2715f466-c76f-4997-bf1e-be89323253fd",
   "metadata": {
    "tags": []
   },
   "source": [
    "# Clustering"
   ]
  },
  {
   "cell_type": "markdown",
   "id": "45ec8ece-57c8-444b-afc2-0d338eb2f11b",
   "metadata": {},
   "source": [
    "## Only POI Cluster"
   ]
  },
  {
   "cell_type": "markdown",
   "id": "62239222-8f8f-451d-b13f-52380ee98650",
   "metadata": {
    "tags": []
   },
   "source": [
    "### POI 500m "
   ]
  },
  {
   "cell_type": "code",
   "execution_count": null,
   "id": "659ea780-9a2e-4a2d-b516-ccdd28a339af",
   "metadata": {},
   "outputs": [],
   "source": [
    "def draw_map(df, marker_colors, label):\n",
    "    for index, row in df.iterrows():\n",
    "        for i in range(len(marker_colors)):\n",
    "                       if row[label] == i:\n",
    "                           folium.CircleMarker([row['latitude'], row['longitude']],\n",
    "                            radius=3,color=marker_colors[i],tooltip=(row['address'],\n",
    "                            row['Total Cost(NTD)'],row['Cost per Sqaure Meter'],row[label])).add_to(m)\n",
    "    return m"
   ]
  },
  {
   "cell_type": "code",
   "execution_count": null,
   "id": "f7202e90-9d54-4361-bcef-dd21a9870977",
   "metadata": {},
   "outputs": [],
   "source": [
    "df_poi_500 = df.loc[:, ['police','hospital','shopping_mall',\n",
    "                 'subway_station','supermarket','park','church','library',\n",
    "                'night_club','university','primary_school','bus_station']]\n",
    "K_cluster = 4\n",
    "kmeans = KMeans(init=\"random\", n_clusters= K_cluster, n_init=10, max_iter=300, random_state=42)\n",
    "kmeans.fit(df_poi_500)\n",
    "df['500_label'] = kmeans.labels_"
   ]
  },
  {
   "cell_type": "code",
   "execution_count": null,
   "id": "89330afc-f219-4866-9936-350e7cb9233f",
   "metadata": {},
   "outputs": [],
   "source": [
    "draw_map(df, marker_colors, '500_label')"
   ]
  },
  {
   "cell_type": "markdown",
   "id": "2bea06da-9e0f-40e8-8570-f4ce1e6dc997",
   "metadata": {
    "tags": []
   },
   "source": [
    "### POI 1000m / 1km"
   ]
  },
  {
   "cell_type": "code",
   "execution_count": null,
   "id": "c00d4040-a2fd-4792-b519-963006bd6e3f",
   "metadata": {},
   "outputs": [],
   "source": [
    "df_poi_1km = df.loc[:, ['police.1','hospital.1','shopping_mall.1',\n",
    "                 'subway_station.1','supermarket.1','park.1','church.1','library.1',\n",
    "                'night_club.1','university.1','primary_school.1','bus_station.1']]\n",
    "K_cluster = 4\n",
    "kmeans = KMeans(init=\"random\", n_clusters= K_cluster, n_init=10, max_iter=300, random_state=42)\n",
    "kmeans.fit(df_poi_1km)\n",
    "df['1km_label'] = kmeans.labels_"
   ]
  },
  {
   "cell_type": "code",
   "execution_count": null,
   "id": "9c957d18-557f-43f5-ac4b-2e4186366bcd",
   "metadata": {},
   "outputs": [],
   "source": [
    "draw_map(df, marker_colors, '1km_label')"
   ]
  },
  {
   "cell_type": "markdown",
   "id": "590fe445-82f2-414d-80e3-394f93899cda",
   "metadata": {
    "tags": []
   },
   "source": [
    "### POI 3000m / 3km"
   ]
  },
  {
   "cell_type": "code",
   "execution_count": null,
   "id": "53c3ea7d-e7e7-470d-99c3-4bf26fd49383",
   "metadata": {},
   "outputs": [],
   "source": [
    "df_poi_3km = df.loc[:, ['police.2','hospital.2','shopping_mall.2',\n",
    "                 'subway_station.2','supermarket.2','park.2','church.2','library.2',\n",
    "                'night_club.2','university.2','primary_school.2','bus_station.2']]\n",
    "K_cluster = 4\n",
    "kmeans = KMeans(init=\"random\", n_clusters= K_cluster, n_init=10, max_iter=300, random_state=42)\n",
    "kmeans.fit(df_poi_3km)\n",
    "df['3km_label'] = kmeans.labels_"
   ]
  },
  {
   "cell_type": "code",
   "execution_count": null,
   "id": "cd72d0bf-004a-41b4-bb56-4fb79b63ef1d",
   "metadata": {},
   "outputs": [],
   "source": [
    "draw_map(df, marker_colors, '3km_label')"
   ]
  },
  {
   "cell_type": "markdown",
   "id": "dc68e25f-2b34-40c0-913c-13d5a5f0ecc2",
   "metadata": {},
   "source": [
    "## POI + Price (Cost/m2)"
   ]
  },
  {
   "cell_type": "markdown",
   "id": "ff5db21f-32da-41dd-a500-77169f481024",
   "metadata": {
    "tags": []
   },
   "source": [
    "### POI 500m + Price "
   ]
  },
  {
   "cell_type": "code",
   "execution_count": null,
   "id": "10cbfc13-390f-4b7b-a807-74c7f68e1e63",
   "metadata": {},
   "outputs": [],
   "source": [
    "df_poi_500_price = df.loc[:, ['Cost per Sqaure Meter','police','hospital','shopping_mall',\n",
    "                 'subway_station','supermarket','park','church','library',\n",
    "                'night_club','university','primary_school','bus_station']]\n",
    "K_cluster = 4\n",
    "kmeans = KMeans(init=\"random\", n_clusters= K_cluster, n_init=10, max_iter=300, random_state=42)\n",
    "kmeans.fit(df_poi_500_price)\n",
    "df['500_price_label'] = kmeans.labels_"
   ]
  },
  {
   "cell_type": "code",
   "execution_count": null,
   "id": "f7584346-6e20-43d4-949d-a6549be5e505",
   "metadata": {},
   "outputs": [],
   "source": [
    "draw_map(df, marker_colors, '500_price_label')"
   ]
  },
  {
   "cell_type": "markdown",
   "id": "cd580769-777d-4d57-aa5f-733fe582e7b1",
   "metadata": {
    "tags": []
   },
   "source": [
    "### POI 1000m / 1km"
   ]
  },
  {
   "cell_type": "code",
   "execution_count": null,
   "id": "e2ede6f7-b525-42ce-8247-05be6e03d557",
   "metadata": {},
   "outputs": [],
   "source": [
    "df_poi_1km_price = df.loc[:, ['Cost per Sqaure Meter','shopping_mall.1',\n",
    "                 'subway_station.1','supermarket.1','park.1','church.1','library.1',\n",
    "                'night_club.1','university.1','primary_school.1','bus_station.1']]\n",
    "K_cluster = 4\n",
    "kmeans = KMeans(init=\"random\", n_clusters= K_cluster, n_init=10, max_iter=300, random_state=42)\n",
    "kmeans.fit(df_poi_1km_price)\n",
    "df['1km_price_label'] = kmeans.labels_"
   ]
  },
  {
   "cell_type": "code",
   "execution_count": null,
   "id": "1a2ed841-07cf-4d62-a424-466140514e9f",
   "metadata": {},
   "outputs": [],
   "source": [
    "draw_map(df, marker_colors, '1km_price_label')"
   ]
  },
  {
   "cell_type": "markdown",
   "id": "59d504bf-d722-41fd-8363-e28df0942496",
   "metadata": {
    "tags": []
   },
   "source": [
    "### POI 3000m / 3km"
   ]
  },
  {
   "cell_type": "code",
   "execution_count": null,
   "id": "a2601be6-b24d-4e09-86bc-1fecb3cadc38",
   "metadata": {},
   "outputs": [],
   "source": [
    "df_poi_3km_price = df.loc[:, ['Cost per Sqaure Meter','police.2','hospital.2','shopping_mall.2',\n",
    "                 'subway_station.2','supermarket.2','park.2','church.2','library.2',\n",
    "                'night_club.2','university.2','primary_school.2','bus_station.2']]\n",
    "K_cluster = 4\n",
    "kmeans = KMeans(init=\"random\", n_clusters= K_cluster, n_init=10, max_iter=300, random_state=42)\n",
    "kmeans.fit(df_poi_3km_price)\n",
    "df['3km_price_label'] = kmeans.labels_"
   ]
  },
  {
   "cell_type": "code",
   "execution_count": null,
   "id": "2700e739-e464-4cab-a3c5-01ec70ccb0ea",
   "metadata": {},
   "outputs": [],
   "source": [
    "draw_map(df, marker_colors, '3km_price_label')"
   ]
  },
  {
   "cell_type": "markdown",
   "id": "d530e924-c7b6-48fd-bc20-3cfb91b07b92",
   "metadata": {},
   "source": [
    "## Only House Properties "
   ]
  },
  {
   "cell_type": "code",
   "execution_count": null,
   "id": "33e78443-83c4-45e4-87a7-260977e9f7d0",
   "metadata": {},
   "outputs": [],
   "source": [
    "df.columns"
   ]
  },
  {
   "cell_type": "code",
   "execution_count": null,
   "id": "2f290758-4e42-4c83-a604-127cd3503f3d",
   "metadata": {},
   "outputs": [],
   "source": [
    "# Merge dataframe of two data csv files\n",
    "house_df = df[['address','latitude', 'longitude', 'Total Cost(NTD)',\n",
    "       'Cost per Sqaure Meter', 'Transacted Floor',\n",
    "       'Total Floor', 'Total Area Transacted (Sqaure Meter)', 'Bed Rooms',\n",
    "       'Living/Dining Rooms', 'Bathrooms', 'Main construction Method',\n",
    "       'Type of Building','time delta year']].copy()"
   ]
  },
  {
   "cell_type": "code",
   "execution_count": null,
   "id": "ce556066-bc4e-4189-a966-6228966ae2a8",
   "metadata": {},
   "outputs": [],
   "source": [
    "house_df = pd.get_dummies(house_df, columns = ['Main construction Method','Type of Building'])"
   ]
  },
  {
   "cell_type": "code",
   "execution_count": null,
   "id": "71c50db7-08af-40ad-835e-b48f3cfbc227",
   "metadata": {},
   "outputs": [],
   "source": [
    "house_df_temp = house_df.copy()\n",
    "house_df_temp = house_df_temp.drop(['address','latitude', 'longitude', 'Total Cost(NTD)','Cost per Sqaure Meter','Total Floor'], axis=1)"
   ]
  },
  {
   "cell_type": "code",
   "execution_count": null,
   "id": "27a76625-7781-489e-ae3b-c91de5e58685",
   "metadata": {},
   "outputs": [],
   "source": [
    "house_df_temp"
   ]
  },
  {
   "cell_type": "code",
   "execution_count": null,
   "id": "2978112f-7528-4a24-968e-b21930c8072c",
   "metadata": {},
   "outputs": [],
   "source": [
    "K_cluster = 3\n",
    "kmeans = KMeans(init=\"random\", n_clusters= K_cluster, n_init=10, max_iter=300, random_state=42)\n",
    "kmeans.fit(house_df_temp)\n",
    "df['house_no_price_label'] = kmeans.labels_"
   ]
  },
  {
   "cell_type": "code",
   "execution_count": null,
   "id": "5ce909ae-94d3-4a07-a8b5-e532f6dbd577",
   "metadata": {},
   "outputs": [],
   "source": [
    "draw_map(df, marker_colors, 'house_no_price_label')"
   ]
  },
  {
   "cell_type": "code",
   "execution_count": null,
   "id": "cf3575e9-3ab3-49e3-b582-619134e32cb4",
   "metadata": {},
   "outputs": [],
   "source": [
    "df.loc[df['house_no_price_label'] == 0].mean()"
   ]
  },
  {
   "cell_type": "code",
   "execution_count": null,
   "id": "7885eabb-0fbe-4321-b02f-10f7145bebb6",
   "metadata": {},
   "outputs": [],
   "source": [
    "house_df_temp = house_df.copy()\n",
    "house_df_temp = house_df_temp.drop(['address','latitude', 'longitude', 'Total Cost(NTD)','Total Floor'], axis=1)"
   ]
  },
  {
   "cell_type": "code",
   "execution_count": null,
   "id": "1394ba4a-2ac3-4d57-814d-84a8616c5e06",
   "metadata": {},
   "outputs": [],
   "source": [
    "K_cluster = 3\n",
    "kmeans = KMeans(init=\"random\", n_clusters= K_cluster, n_init=10, max_iter=300, random_state=42)\n",
    "kmeans.fit(house_df_temp)\n",
    "df['house_price_label'] = kmeans.labels_"
   ]
  },
  {
   "cell_type": "code",
   "execution_count": null,
   "id": "a4a0ec9e-13c9-4883-8d0b-fd71f13be7df",
   "metadata": {},
   "outputs": [],
   "source": [
    "draw_map(df, marker_colors, 'house_price_label')"
   ]
  },
  {
   "cell_type": "markdown",
   "id": "bae5c803-8ce4-4b39-bc05-5f4c402999fd",
   "metadata": {},
   "source": [
    "# Social Economic Factors"
   ]
  },
  {
   "cell_type": "markdown",
   "id": "8c3595f2-88aa-4805-8237-49c04297cf5e",
   "metadata": {
    "jp-MarkdownHeadingCollapsed": true,
    "tags": []
   },
   "source": [
    "## Geojson Data"
   ]
  },
  {
   "cell_type": "code",
   "execution_count": null,
   "id": "635578eb-4ca1-4470-aadf-5e07978cf7e6",
   "metadata": {},
   "outputs": [],
   "source": [
    "# EPSG: 3824 is the encoding method for the district TWD97 coordinate\n",
    "dfSubdist = gpd.read_file('subdistrict.json')\n",
    "dfTaipeiDistrict = dfSubdist[dfSubdist.COUNTYNAME=='臺北市'][['COUNTYNAME', 'TOWNNAME', 'VILLNAME', 'VILLENG','TOWNID', 'TOWNCODE', 'geometry']].reset_index()\n",
    "\n",
    "dfName = pd.read_csv('district_name_translation.csv',index_col=1)['TOWNNAME_EN']\n",
    "dfTaipeiDistrict = dfTaipeiDistrict.join(dfName,on='TOWNNAME')"
   ]
  },
  {
   "cell_type": "code",
   "execution_count": null,
   "id": "ac7cc88e-ee11-4801-9f2a-29cc8dd6ce08",
   "metadata": {},
   "outputs": [],
   "source": [
    "df_activity = pd.read_csv(\"2020_november_distrcit_activity.csv\")\n",
    "df_activity['TOWN_ID'] = df_activity['TOWN_ID'].astype(str)\n",
    "df_activity['CPID'] = '630' + df_activity['TOWN_ID'].str[5:7]\n",
    "df_activity"
   ]
  },
  {
   "cell_type": "code",
   "execution_count": null,
   "id": "94d4f8ea-2480-491d-84b7-e4a81ababcd4",
   "metadata": {},
   "outputs": [],
   "source": [
    "def getSubdistrictTuple(col1,col2,col3):\n",
    "    \n",
    "    return '_'.join([col1,col2,col3])"
   ]
  },
  {
   "cell_type": "markdown",
   "id": "b02900fc-09b8-4c93-86cd-1c20e7e37a7a",
   "metadata": {
    "jp-MarkdownHeadingCollapsed": true,
    "tags": []
   },
   "source": [
    "## Activity Flow Data"
   ]
  },
  {
   "cell_type": "code",
   "execution_count": null,
   "id": "62488ef6-1699-4071-b88e-34ffa2b9f98b",
   "metadata": {},
   "outputs": [],
   "source": [
    "dfTaipeiActivity = df_activity.merge(dfTaipeiDistrict,how='left',left_on=['TOWN_ID'],right_on=['TOWNCODE'])\n",
    "dfTaipeiActivity = gpd.GeoDataFrame(dfTaipeiActivity)\n"
   ]
  },
  {
   "cell_type": "code",
   "execution_count": null,
   "id": "1ebd324d-a524-4ce9-85ec-d311cfbd8946",
   "metadata": {},
   "outputs": [],
   "source": [
    "dfTaipeiActivity['district'] = dfTaipeiActivity.apply(lambda df:getSubdistrictTuple(df.COUNTYNAME,df.TOWNNAME,df.VILLNAME),axis=1)\n",
    "dfTaipeiActivity['daytime_ratio'] = dfTaipeiActivity['DAY_WORK']/dfTaipeiActivity['DAY_WEEKEND']\n",
    "dfTaipeiActivity['nighttime_ratio'] = dfTaipeiActivity['NIGHT_WORK']/dfTaipeiActivity['NIGHT_WEEKEND']\n",
    "dfTaipeiActivity['work_daynight_ratio'] = dfTaipeiActivity['DAY_WORK']/dfTaipeiActivity['NIGHT_WORK']\n",
    "dfTaipeiActivity.columns"
   ]
  },
  {
   "cell_type": "code",
   "execution_count": null,
   "id": "9aedfef1-016d-43b0-a901-87e1b7ed2800",
   "metadata": {},
   "outputs": [],
   "source": [
    "colormap_act = cm.LinearColormap(colors=['blue','white','red'],vmin=0,vmax=5)"
   ]
  },
  {
   "cell_type": "markdown",
   "id": "4d9511ce-e0c7-440b-a198-b70094af0a2d",
   "metadata": {
    "jp-MarkdownHeadingCollapsed": true,
    "tags": []
   },
   "source": [
    "### Draw District Activity Map"
   ]
  },
  {
   "cell_type": "code",
   "execution_count": null,
   "id": "0bca983c-c2d7-427d-8fce-89e6d058c0a8",
   "metadata": {},
   "outputs": [],
   "source": [
    "m_activity = folium.Map(location=[25.048651234895390, 121.54614479464894], zoom_start=11.5)\n",
    "\n",
    "dfTemp = dfTaipeiActivity[['district','geometry']]\n",
    "\n",
    "folium.Choropleth(\n",
    "    geo_data=dfTemp,\n",
    "    name=\"Day Time Ratio\",\n",
    "    data=dfTaipeiActivity,\n",
    "    columns=[\"district\", \"daytime_ratio\"],\n",
    "    key_on=\"feature.properties.district\",\n",
    "    fill_color='PuOr',\n",
    "    fill_opacity=0.7,\n",
    "    line_opacity=0.2,\n",
    "    legend_name=\"Daytime Ratio (Weekday/Weekend)\",\n",
    ").add_to(m_activity)\n",
    "\n",
    "# folium.Choropleth(\n",
    "#     geo_data=dfTemp,\n",
    "#     name=\"Night Time Ratio\",\n",
    "#     data=dfTaipeiActivity,\n",
    "#     columns=[\"district\", \"nighttime_ratio\"],\n",
    "#     key_on=\"feature.properties.district\",\n",
    "#     fill_color=\"PuOr\",\n",
    "#     fill_opacity=0.7,\n",
    "#     line_opacity=0.2,\n",
    "#     legend_name=\"Night Ratio (Weekday/Weekend)\",\n",
    "# ).add_to(m_activity)\n",
    "\n",
    "folium.Choropleth(\n",
    "    geo_data=dfTemp,\n",
    "    name=\"work_daynight_ratio\",\n",
    "    data=dfTaipeiActivity,\n",
    "    columns=[\"district\", \"work_daynight_ratio\"],\n",
    "    key_on=\"feature.properties.district\",\n",
    "    fill_color=\"PuOr\",\n",
    "    fill_opacity=0.7,\n",
    "    line_opacity=0.2,\n",
    "    legend_name=\"work_daynight_ratio\",\n",
    ").add_to(m_activity)\n",
    "\n",
    "colormap = cm.LinearColormap(colors=['azure','lightcyan','lightblue','deepskyblue','dodgerblue','blue'],vmin=5000000,vmax=80000000)\n",
    "#['mistyrose','salmon','tomato','red', 'darkred']\n",
    "\n",
    "for index, row in df_price.iterrows():\n",
    "    pop_info = 'Address:' + row['address'] + \"Total Cost (NTD):\" + str(row['Total Cost(NTD)']) + \"Lat/Lon:\" + str(row['latitude']) + str(row['longitude'])\n",
    "    folium.CircleMarker([row['latitude'], row['longitude']],\n",
    "                        radius=2,color=colormap(row['Total Cost(NTD)']),opacity=0.4, popup=(pop_info)).add_to(m_activity)\n",
    "m_activity.add_child(colormap)\n",
    "\n",
    "folium.LayerControl().add_to(m_activity)\n",
    "\n",
    "m_activity"
   ]
  },
  {
   "cell_type": "code",
   "execution_count": null,
   "id": "7f8423e6-9e35-427b-9558-c7160a8a8ec4",
   "metadata": {},
   "outputs": [],
   "source": [
    "style_function = lambda x: {'fillColor': '#ffffff', \n",
    "                            'color':'#000000', \n",
    "                            'fillOpacity': 0.1, \n",
    "                            'weight': 0.1}\n",
    "highlight_function = lambda x: {'fillColor': '#000000', \n",
    "                                'color':'#000000', \n",
    "                                'fillOpacity': 0.50, \n",
    "                                'weight': 0.1}\n",
    "NIL = folium.features.GeoJson(\n",
    "    dfTaipeiActivity,\n",
    "    style_function=style_function, \n",
    "    control=False,\n",
    "    highlight_function=highlight_function, \n",
    "    tooltip=folium.features.GeoJsonTooltip(\n",
    "        fields=['TOWN','VILLENG','DAY_WORK','NIGHT_WORK','daytime_ratio','nighttime_ratio'],\n",
    "        aliases=['District: ','Village','Workday Daytime: ', 'Workday Nighttime: ','Day Ratio:','Night Ratio: '],\n",
    "        style=(\"background-color: white; color: #333333; font-family: arial; font-size: 12px; padding: 10px;\") \n",
    "    )\n",
    ")\n",
    "m_activity.add_child(NIL)\n",
    "m_activity.keep_in_front(NIL)\n",
    "m_activity"
   ]
  },
  {
   "cell_type": "markdown",
   "id": "7c51d19c-4395-4fab-9753-e5d10f5e7d67",
   "metadata": {},
   "source": [
    "## Income Data "
   ]
  },
  {
   "cell_type": "markdown",
   "id": "e9418da0-73fc-420e-a80d-34271b67dbf1",
   "metadata": {
    "jp-MarkdownHeadingCollapsed": true,
    "tags": []
   },
   "source": [
    "### Read in income data"
   ]
  },
  {
   "cell_type": "code",
   "execution_count": null,
   "id": "a761f3a9-79e6-4b98-94bc-80d4ddefef01",
   "metadata": {},
   "outputs": [],
   "source": [
    "dfIncome = pd.read_csv('income.csv')\n",
    "dfTaipeiIncome = dfIncome[dfIncome['COUNTYNAME']=='臺北市'].merge(dfTaipeiDistrict,how='right',left_on=['COUNTYNAME','TOWNNAME','VILLNAME'],right_on=['COUNTYNAME','TOWNNAME','VILLNAME'])\n",
    "dfTaipeiIncome = gpd.GeoDataFrame(dfTaipeiIncome)"
   ]
  },
  {
   "cell_type": "code",
   "execution_count": null,
   "id": "a6b5d8b0-7d96-4263-b6c1-babe7cd95d28",
   "metadata": {},
   "outputs": [],
   "source": [
    "def getSubdistrictTuple(col1,col2,col3):\n",
    "    \n",
    "    return '_'.join([col1,col2,col3])\n",
    "\n",
    "dfTaipeiIncome['district'] = dfTaipeiIncome.apply(lambda df:getSubdistrictTuple(df.COUNTYNAME,df.TOWNNAME,df.VILLNAME),axis=1)"
   ]
  },
  {
   "cell_type": "code",
   "execution_count": null,
   "id": "e74848e1-ecc9-400a-b805-1742488b188f",
   "metadata": {},
   "outputs": [],
   "source": [
    "dfTaipeiIncome"
   ]
  },
  {
   "cell_type": "markdown",
   "id": "63448650-0fbd-4149-b101-e8fa0149723a",
   "metadata": {
    "jp-MarkdownHeadingCollapsed": true,
    "tags": []
   },
   "source": [
    "### Draw District Total Income Map"
   ]
  },
  {
   "cell_type": "code",
   "execution_count": null,
   "id": "fed6f497-c626-4d3b-9cd6-d95afe35b83d",
   "metadata": {},
   "outputs": [],
   "source": [
    "m = folium.Map(location=[25.048651234895390, 121.54614479464894], zoom_start=11.5)\n",
    "\n",
    "dfTemp = dfTaipeiIncome[['district','geometry']]\n",
    "\n",
    "folium.Choropleth(\n",
    "    geo_data=dfTemp,\n",
    "    name=\"Total Income\",\n",
    "    data=dfTaipeiIncome,\n",
    "    columns=[\"district\", \"AVG\"],\n",
    "    key_on=\"feature.properties.district\",\n",
    "    fill_color=\"Reds\",\n",
    "    fill_opacity=0.8,\n",
    "    line_opacity=0.2,\n",
    "    legend_name=\"Total household income\",\n",
    ").add_to(m)\n",
    "\n",
    "folium.LayerControl().add_to(m)\n",
    "\n",
    "m"
   ]
  },
  {
   "cell_type": "markdown",
   "id": "e3c21b1c-70a7-4ba9-b717-205aa4cd73ae",
   "metadata": {
    "jp-MarkdownHeadingCollapsed": true,
    "tags": []
   },
   "source": [
    "### Draw District Total Income Map + House Prcie"
   ]
  },
  {
   "cell_type": "code",
   "execution_count": null,
   "id": "9ee8ab71-3a65-483f-a339-81d03cf57865",
   "metadata": {},
   "outputs": [],
   "source": [
    "colormap = cm.LinearColormap(colors=['azure','lightcyan','lightblue','deepskyblue','dodgerblue','blue'],vmin=5000000,vmax=80000000)\n",
    "#['mistyrose','salmon','tomato','red', 'darkred']\n",
    "\n",
    "for index, row in df_price.iterrows():\n",
    "    pop_info = 'Address:' + row['address'] + \"Total Cost (NTD):\" + str(row['Total Cost(NTD)']) + \"Lat/Lon:\" + str(row['latitude']) + str(row['longitude'])\n",
    "    folium.CircleMarker([row['latitude'], row['longitude']],\n",
    "                        radius=2,color=colormap(row['Total Cost(NTD)']),opacity=0.4, popup=(pop_info)).add_to(m)\n",
    "m.add_child(colormap)"
   ]
  },
  {
   "cell_type": "code",
   "execution_count": null,
   "id": "492715bf-38e2-4e75-a24a-abf38a513e46",
   "metadata": {},
   "outputs": [],
   "source": [
    "colormap = cm.LinearColormap(colors=['azure','lightcyan','lightblue','deepskyblue','dodgerblue','blue'],vmin=100000,vmax=400000)\n",
    "for index, row in df_price_m2.iterrows():\n",
    "    pop_info = 'Address:' + row['address'] + \"Total Cost (NTD):\" + str(row['Cost per Sqaure Meter']) + \"Lat/Lon:\" + str(row['latitude']) + str(row['longitude'])\n",
    "    folium.CircleMarker([row['latitude'], row['longitude']],\n",
    "                        radius=2,color=colormap(row['Cost per Sqaure Meter']),opacity=0.4, popup=(pop_info)).add_to(m)\n",
    "m.add_child(colormap)\n",
    "display(m)"
   ]
  },
  {
   "cell_type": "markdown",
   "id": "5d708a4b-aee5-4c36-9c07-4baa0958f681",
   "metadata": {
    "jp-MarkdownHeadingCollapsed": true,
    "tags": []
   },
   "source": [
    "### Income Map on Subdistricts"
   ]
  },
  {
   "cell_type": "code",
   "execution_count": null,
   "id": "15d13461-d14a-4915-9062-be83ccec36c5",
   "metadata": {},
   "outputs": [],
   "source": [
    "fig, ax = plt.subplots(1, 1,figsize=(10,10))\n",
    "b = dfTaipeiIncome.plot(column='TTL_INCOME',\n",
    "              ax=ax, \n",
    "              legend=True,\n",
    "              legend_kwds={\n",
    "                'label': \"Total Income in Taipei Sub-district (in Thousands NTD$)\",\n",
    "                'orientation': \"vertical\"\n",
    "              },\n",
    "              cmap='OrRd')\n",
    "plt.savefig('total_income_village.png')"
   ]
  },
  {
   "cell_type": "code",
   "execution_count": null,
   "id": "2e95fd9e-125b-4faa-9247-b833d4c1eec4",
   "metadata": {},
   "outputs": [],
   "source": [
    "fig, ax = plt.subplots(1, 1,figsize=(10,10))\n",
    "b = dfTaipeiIncome.plot(column='AVG',\n",
    "              ax=ax, \n",
    "              legend=True,\n",
    "              legend_kwds={\n",
    "                'label': \"Average Incoame in Taipei Sub-district (in Thousands NTD$)\",\n",
    "                'orientation': \"vertical\"\n",
    "              },\n",
    "              cmap='OrRd')\n",
    "plt.savefig('average_income.png')"
   ]
  },
  {
   "cell_type": "code",
   "execution_count": null,
   "id": "dcae089e-5713-4f8f-aab6-bd677887002e",
   "metadata": {},
   "outputs": [],
   "source": [
    "fig, ax = plt.subplots(1, 1,figsize=(10,10))\n",
    "b = dfTaipeiIncome.plot(column='MEDIAN',\n",
    "              ax=ax, \n",
    "              legend=True,\n",
    "              legend_kwds={\n",
    "                'label': \"Average Incoame in Taipei Sub-district (in Thousands NTD$)\",\n",
    "                'orientation': \"vertical\"\n",
    "              },\n",
    "              cmap='OrRd')\n",
    "plt.savefig('median_income.png')"
   ]
  },
  {
   "cell_type": "code",
   "execution_count": null,
   "id": "13cdb497-51a8-47f9-ab6a-0a46a986f483",
   "metadata": {},
   "outputs": [],
   "source": [
    "dfTaipeiIncome"
   ]
  },
  {
   "cell_type": "markdown",
   "id": "378998af-3ae4-4525-bd72-615b39d8d22d",
   "metadata": {
    "tags": []
   },
   "source": [
    "## Education"
   ]
  },
  {
   "cell_type": "markdown",
   "id": "e6fd4b8d-4313-4ab9-8a11-a7662473edaf",
   "metadata": {
    "jp-MarkdownHeadingCollapsed": true,
    "tags": []
   },
   "source": [
    "### Data Cleaning and Filter"
   ]
  },
  {
   "cell_type": "code",
   "execution_count": null,
   "id": "c5494790-42dd-4faa-82a8-24fccbda5fea",
   "metadata": {},
   "outputs": [],
   "source": [
    "dfEdu = pd.read_csv('education.csv')\n",
    "dfEdu = dfEdu[1:].reindex()\n",
    "dfTaipeiEdu = dfEdu[dfEdu.site_id.str.contains('臺北市')].copy()\n",
    "dfTaipeiEdu['COUNTYNAME'] = dfTaipeiEdu['site_id'].apply(lambda x: x[:3])\n",
    "dfTaipeiEdu['TOWNNAME'] = dfTaipeiEdu['site_id'].apply(lambda x: x[3:])\n",
    "dfTaipeiEdu = dfTaipeiEdu.join(dfName,on='TOWNNAME')"
   ]
  },
  {
   "cell_type": "code",
   "execution_count": null,
   "id": "8b617551-5740-4f84-adce-4b979a58fe80",
   "metadata": {},
   "outputs": [],
   "source": [
    "dfTaipeiEdu"
   ]
  },
  {
   "cell_type": "code",
   "execution_count": null,
   "id": "96cf1dbd-1325-4f8f-a6c7-b231102061ba",
   "metadata": {},
   "outputs": [],
   "source": [
    "dfTaipeiEdu = dfTaipeiEdu.astype({\"edu_doctor_graduated_m\": int, \"edu_doctor_graduated_f\": int, \"edu_master_graduated_m\": int, \"edu_master_graduated_f\": int,  \"edu_university_graduated_m\": int,\n",
    "                \"edu_university_graduated_f\": int,  \"edu_juniorcollege_2ys_graduated_m\": int,  \"edu_juniorcollege_2ys_graduated_f\": int,  \"edu_senior_graduated_m\": int,  \"edu_senior_graduated_f\": int, \n",
    "                \"edu_seniorvocational_graduated_m\": int,  \"edu_seniorvocational_graduated_f\": int,  \"edu_junior_graduated_m\": int,  \"edu_junior_graduated_f\": int,  \"edu_juniorvocational_graduated_m\": int,\n",
    "                 \"edu_juniorvocational_graduated_f\": int,  \"edu_primary_graduated_m\": int,  \"edu_primary_graduated_f\": int})"
   ]
  },
  {
   "cell_type": "code",
   "execution_count": null,
   "id": "39e73394-62e9-4d7b-aa0a-0cb2b5972152",
   "metadata": {},
   "outputs": [],
   "source": [
    "edu_list = ['edu_age_15up_total',\n",
    " 'edu_doctor_graduated_m',\n",
    " 'edu_doctor_graduated_f',\n",
    " 'edu_master_graduated_m',\n",
    " 'edu_master_graduated_f',\n",
    " 'edu_university_graduated_m',\n",
    " 'edu_university_graduated_f',\n",
    " 'edu_juniorcollege_2ys_graduated_m',\n",
    " 'edu_juniorcollege_2ys_graduated_f',\n",
    " 'edu_juniorcollege_5ys_final2y_graduated_m',\n",
    " 'edu_juniorcollege_5ys_final2y_graduated_f',\n",
    " 'edu_senior_graduated_m',\n",
    " 'edu_senior_graduated_f',\n",
    " 'edu_seniorvocational_graduated_m',\n",
    " 'edu_seniorvocational_graduated_f',\n",
    " 'edu_junior_graduated_m',\n",
    " 'edu_junior_graduated_f',\n",
    " 'edu_juniorvocational_graduated_m',\n",
    " 'edu_juniorvocational_graduated_f',\n",
    " 'edu_primary_graduated_m',\n",
    " 'edu_primary_graduated_f',\n",
    " 'edu_selftaughtl_m',\n",
    " 'edu_selftaughtl_f',\n",
    " 'edu_illiterate_m',\n",
    " 'edu_illiterate_f']\n",
    "\n",
    "dfTaipeiEdu['edu_doctor'] = dfTaipeiEdu['edu_doctor_graduated_m']+dfTaipeiEdu['edu_doctor_graduated_f'] \n",
    "dfTaipeiEdu['edu_master'] = dfTaipeiEdu['edu_master_graduated_m']+dfTaipeiEdu['edu_master_graduated_f'] \n",
    "dfTaipeiEdu['edu_undergrad'] = dfTaipeiEdu['edu_university_graduated_m']+dfTaipeiEdu['edu_university_graduated_f'] \n",
    "dfTaipeiEdu['edu_cc'] = dfTaipeiEdu['edu_juniorcollege_2ys_graduated_m']+dfTaipeiEdu['edu_juniorcollege_2ys_graduated_f'] \n",
    "dfTaipeiEdu['edu_senior'] = dfTaipeiEdu['edu_senior_graduated_m']+dfTaipeiEdu['edu_senior_graduated_f'] +dfTaipeiEdu['edu_seniorvocational_graduated_m']+dfTaipeiEdu['edu_seniorvocational_graduated_f'] \n",
    "dfTaipeiEdu['edu_junior'] = dfTaipeiEdu['edu_junior_graduated_m']+dfTaipeiEdu['edu_junior_graduated_f'] +dfTaipeiEdu['edu_juniorvocational_graduated_m']+dfTaipeiEdu['edu_juniorvocational_graduated_f'] \n",
    "dfTaipeiEdu['edu_primary'] = dfTaipeiEdu['edu_primary_graduated_m']+dfTaipeiEdu['edu_primary_graduated_f'] "
   ]
  },
  {
   "cell_type": "code",
   "execution_count": null,
   "id": "131a5279-2d1b-4a4e-b59a-3495c5a3a153",
   "metadata": {},
   "outputs": [],
   "source": [
    "edu_list = ['edu_age_15up_total','edu_doctor','edu_master',\n",
    "           'edu_undergrad','edu_cc','edu_senior','edu_junior','edu_primary']"
   ]
  },
  {
   "cell_type": "code",
   "execution_count": null,
   "id": "90094241-3f29-4273-9c7d-b69491c996ca",
   "metadata": {},
   "outputs": [],
   "source": [
    "dfTaipeiEdu"
   ]
  },
  {
   "cell_type": "code",
   "execution_count": null,
   "id": "9f2dbdd8-64cb-40dd-8fd3-f731af3a2df5",
   "metadata": {},
   "outputs": [],
   "source": [
    "dfTempEdu = dfTaipeiEdu[['COUNTYNAME', 'TOWNNAME','village',\n",
    "       'edu_age_15up_total','edu_doctor', 'edu_master', 'edu_undergrad', 'edu_cc',\n",
    "       'edu_senior', 'edu_junior', 'edu_primary']]"
   ]
  },
  {
   "cell_type": "code",
   "execution_count": null,
   "id": "c446c01e-745a-4fb9-9358-6de1dd2f0fee",
   "metadata": {},
   "outputs": [],
   "source": [
    "dfTempEdu"
   ]
  },
  {
   "cell_type": "code",
   "execution_count": null,
   "id": "c0576c0c-a787-4619-817e-3b9ecbc39ccd",
   "metadata": {},
   "outputs": [],
   "source": [
    "dfTaipeiEducation = dfTempEdu[dfTempEdu['COUNTYNAME']=='臺北市'].merge(dfTaipeiDistrict,how='right',left_on=['COUNTYNAME','TOWNNAME','village'],right_on=['COUNTYNAME','TOWNNAME','VILLNAME'])\n",
    "dfTaipeiEducation = gpd.GeoDataFrame(dfTaipeiEducation)\n",
    "dfTaipeiEducation['district'] = dfTaipeiEducation.apply(lambda df:getSubdistrictTuple(df.COUNTYNAME,df.TOWNNAME,df.VILLNAME),axis=1)"
   ]
  },
  {
   "cell_type": "code",
   "execution_count": null,
   "id": "e30e4c5b-2802-4bf9-836e-2dd64e5b1d14",
   "metadata": {},
   "outputs": [],
   "source": [
    "dfTaipeiEducation"
   ]
  },
  {
   "cell_type": "markdown",
   "id": "955ab085-8b75-4a14-957c-4c91882d100b",
   "metadata": {
    "jp-MarkdownHeadingCollapsed": true,
    "tags": []
   },
   "source": [
    "### Education Map and House Prices of Doctorate and Masters"
   ]
  },
  {
   "cell_type": "code",
   "execution_count": null,
   "id": "84bb662e-7853-473b-a33e-f002ddcc435c",
   "metadata": {},
   "outputs": [],
   "source": [
    "m = folium.Map(location=[25.048651234895390, 121.54614479464894], zoom_start=11.5)\n",
    "\n",
    "dfTemp = dfTaipeiEducation[['district','geometry']]\n",
    "\n",
    "folium.Choropleth(\n",
    "    geo_data=dfTemp,\n",
    "    name=\"Doctor\",\n",
    "    data=dfTaipeiEducation,\n",
    "    columns=[\"district\", \"edu_doctor\"],\n",
    "    key_on=\"feature.properties.district\",\n",
    "    fill_color=\"Reds\",\n",
    "    fill_opacity=0.8,\n",
    "    line_opacity=0.2,\n",
    "    legend_name=\"Number of Doctorate Degree\",\n",
    ").add_to(m)\n",
    "\n",
    "folium.Choropleth(\n",
    "    geo_data=dfTemp,\n",
    "    name=\"Masters\",\n",
    "    data=dfTaipeiEducation,\n",
    "    columns=[\"district\", \"edu_master\"],\n",
    "    key_on=\"feature.properties.district\",\n",
    "    fill_color=\"Reds\",\n",
    "    fill_opacity=0.8,\n",
    "    line_opacity=0.2,\n",
    "    legend_name=\"Number of Master Degree\",\n",
    ").add_to(m)\n",
    "\n",
    "folium.TileLayer('Stamen Terrain').add_to(m)\n",
    "folium.TileLayer('Stamen Toner').add_to(m)\n",
    "\n",
    "\n",
    "\n",
    "colormap = cm.LinearColormap(colors=['azure','lightcyan','lightblue','deepskyblue','dodgerblue','blue'],vmin=100000,vmax=400000)\n",
    "for index, row in df_price_m2.iterrows():\n",
    "    pop_info = 'Address:' + row['address'] + \"Total Cost (NTD):\" + str(row['Cost per Sqaure Meter']) + \"Lat/Lon:\" + str(row['latitude']) + str(row['longitude'])\n",
    "    folium.CircleMarker([row['latitude'], row['longitude']],\n",
    "                        radius=2,color=colormap(row['Cost per Sqaure Meter']),opacity=0.4, popup=(pop_info)).add_to(m)\n",
    "m.add_child(colormap)\n",
    "folium.LayerControl().add_to(m)\n",
    "m"
   ]
  },
  {
   "cell_type": "markdown",
   "id": "89729073-fd29-49c3-ab08-a9b9ed0ce8f5",
   "metadata": {
    "jp-MarkdownHeadingCollapsed": true,
    "tags": []
   },
   "source": [
    "### Education Map and House Prices of Undergradaute"
   ]
  },
  {
   "cell_type": "code",
   "execution_count": null,
   "id": "75302fae-5a45-473d-b41e-2cc65e6f76b5",
   "metadata": {},
   "outputs": [],
   "source": [
    "m = folium.Map(location=[25.048651234895390, 121.54614479464894], zoom_start=11.5)\n",
    "\n",
    "dfTemp = dfTaipeiEducation[['district','geometry']]\n",
    "\n",
    "folium.Choropleth(\n",
    "    geo_data=dfTemp,\n",
    "    name=\"Undergrad\",\n",
    "    data=dfTaipeiEducation,\n",
    "    columns=[\"district\", \"edu_undergrad\"],\n",
    "    key_on=\"feature.properties.district\",\n",
    "    fill_color=\"Reds\",\n",
    "    fill_opacity=0.8,\n",
    "    line_opacity=0.2,\n",
    "    legend_name=\"Number of Undergrad Degree\",\n",
    ").add_to(m)\n",
    "for index, row in df_price_m2.iterrows():\n",
    "    pop_info = 'Address:' + row['address'] + \"Total Cost (NTD):\" + str(row['Cost per Sqaure Meter']) + \"Lat/Lon:\" + str(row['latitude']) + str(row['longitude'])\n",
    "    folium.CircleMarker([row['latitude'], row['longitude']],\n",
    "                        radius=2,color=colormap(row['Cost per Sqaure Meter']),opacity=0.4, popup=(pop_info)).add_to(m)\n",
    "m.add_child(colormap)\n",
    "# folium.Choropleth(\n",
    "#     geo_data=dfTemp,\n",
    "#     name=\"CC/Associates\",\n",
    "#     data=dfTaipeiEducation,\n",
    "#     columns=[\"district\", \"edu_cc\"],\n",
    "#     key_on=\"feature.properties.district\",\n",
    "#     fill_color=\"Reds\",\n",
    "#     fill_opacity=0.8,\n",
    "#     line_opacity=0.2,\n",
    "#     legend_name=\"Number of CC/Associate Degree\",\n",
    "# ).add_to(m)\n",
    "\n",
    "# folium.Choropleth(\n",
    "#     geo_data=dfTemp,\n",
    "#     name=\"Senior High\",\n",
    "#     data=dfTaipeiEducation,\n",
    "#     columns=[\"district\", \"edu_senior\"],\n",
    "#     key_on=\"feature.properties.district\",\n",
    "#     fill_color=\"Reds\",\n",
    "#     fill_opacity=0.8,\n",
    "#     line_opacity=0.2,\n",
    "#     legend_name=\"Number of Senior High Degree\",\n",
    "# ).add_to(m)\n",
    "\n",
    "folium.TileLayer('Stamen Terrain').add_to(m)\n",
    "folium.TileLayer('Stamen Toner').add_to(m)\n",
    "\n",
    "folium.LayerControl().add_to(m)\n",
    "\n",
    "m"
   ]
  },
  {
   "cell_type": "markdown",
   "id": "30e0c0af-a8ab-4e93-907f-d8e11590b495",
   "metadata": {
    "jp-MarkdownHeadingCollapsed": true,
    "tags": []
   },
   "source": [
    "## Calcuating Average House Price in District"
   ]
  },
  {
   "cell_type": "code",
   "execution_count": null,
   "id": "65fb1649-a8a7-4c39-9cf5-a9abd14b1926",
   "metadata": {},
   "outputs": [],
   "source": [
    "house_data\n",
    "house_average = house_data.groupby(['Urban District']).mean()\n",
    "house_average = house_average[['Total Cost(NTD)']]"
   ]
  },
  {
   "cell_type": "code",
   "execution_count": null,
   "id": "0173e7f7-a9d7-459c-aaa7-883e5fb7f6fc",
   "metadata": {},
   "outputs": [],
   "source": [
    "house_average['Total Cost(NTD)'] = house_average['Total Cost(NTD)'] / 1000"
   ]
  },
  {
   "cell_type": "code",
   "execution_count": null,
   "id": "bf565c98-a809-4619-9201-7b40ba0ba78a",
   "metadata": {},
   "outputs": [],
   "source": [
    "house_average.sort_values(by='Total Cost(NTD)', ascending=False)"
   ]
  },
  {
   "cell_type": "code",
   "execution_count": null,
   "id": "6fb5aba3-4b53-4e0c-bde3-e7a2ba97a00a",
   "metadata": {},
   "outputs": [],
   "source": [
    "house_averagehouse_average"
   ]
  }
 ],
 "metadata": {
  "kernelspec": {
   "display_name": "Python 3 (ipykernel)",
   "language": "python",
   "name": "python3"
  },
  "language_info": {
   "codemirror_mode": {
    "name": "ipython",
    "version": 3
   },
   "file_extension": ".py",
   "mimetype": "text/x-python",
   "name": "python",
   "nbconvert_exporter": "python",
   "pygments_lexer": "ipython3",
   "version": "3.9.12"
  }
 },
 "nbformat": 4,
 "nbformat_minor": 5
}
