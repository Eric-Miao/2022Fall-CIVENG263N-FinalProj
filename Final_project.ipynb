{
 "cells": [
  {
   "cell_type": "code",
   "execution_count": null,
   "id": "95c2de0b-5e2d-458d-817f-4a0a403eb3bc",
   "metadata": {},
   "outputs": [],
   "source": [
    "import folium\n",
    "from folium import plugins\n",
    "from folium.plugins import HeatMap, HeatMapWithTime\n",
    "\n",
    "import pandas as pd\n",
    "import matplotlib.pyplot as plt\n",
    "import seaborn as sns\n",
    "import numpy as np\n",
    "from datetime import datetime, timedelta\n",
    "from sklearn.cluster import KMeans\n",
    "\n",
    "import branca\n",
    "import branca.colormap as cm\n",
    "%matplotlib inline"
   ]
  },
  {
   "cell_type": "markdown",
   "id": "a5f6f9c8-63a7-44a1-95e8-2ee75285d6aa",
   "metadata": {
    "tags": []
   },
   "source": [
    "# Read Data"
   ]
  },
  {
   "cell_type": "code",
   "execution_count": null,
   "id": "df5e070d-ffdc-4d97-b48a-9d2cfa914b74",
   "metadata": {},
   "outputs": [],
   "source": [
    "poi_data = pd.read_csv('POI_price_multi_index_sheet.csv',index_col=0) #header=[0, 1]\n",
    "house_data = pd.read_csv('1118transaction.csv')\n",
    "long_lat_data = pd.read_csv('geoinfo_0_4048.csv')\n",
    "long_lat_data.rename(columns = {'Unnamed: 0':'address'}, inplace = True)\n",
    "house_data.rename(columns = {'Address':'address'}, inplace = True)"
   ]
  },
  {
   "cell_type": "code",
   "execution_count": null,
   "id": "79918438-a7de-4e63-b15e-73d8339edb5e",
   "metadata": {},
   "outputs": [],
   "source": [
    "poi_data = poi_data.iloc[2: , :]"
   ]
  },
  {
   "cell_type": "code",
   "execution_count": null,
   "id": "da9ed26a-6a06-4a5a-9745-c02cdd235edf",
   "metadata": {},
   "outputs": [],
   "source": [
    "# get dataframe of specific distance\n",
    "poi_data = poi_data.reset_index()\n",
    "# address = poi_data['address']\n",
    "# poi_500 = poi_data.loc[:,(slice(None),'500')]\n",
    "# poi_500['address'] = address\n",
    "# poi_1000 = poi_data.loc[:,(slice(None),'1000')]\n",
    "# poi_1000['address'] = address\n",
    "# poi_3000 = poi_data.loc[:,(slice(None),'3000')]\n",
    "# poi_3000['address'] = address"
   ]
  },
  {
   "cell_type": "code",
   "execution_count": null,
   "id": "544304fb-9e23-494b-b542-85663a54d3a6",
   "metadata": {},
   "outputs": [],
   "source": [
    "poi_data.rename(columns = {'POI':'address'}, inplace = True)"
   ]
  },
  {
   "cell_type": "code",
   "execution_count": null,
   "id": "2ded1df0-0f5b-4763-97c3-1b30564067ef",
   "metadata": {},
   "outputs": [],
   "source": [
    "# Merge dataframe of two data csv files\n",
    "house_data = pd.merge(house_data,long_lat_data[['address','latitude','longitude']],\n",
    "              on='address', how='inner')"
   ]
  },
  {
   "cell_type": "code",
   "execution_count": null,
   "id": "d2022018-032a-4b84-9484-2d5f3e68763a",
   "metadata": {},
   "outputs": [],
   "source": [
    "house_data"
   ]
  },
  {
   "cell_type": "markdown",
   "id": "524a3261-9f20-4bb2-bb69-df78ddf9694f",
   "metadata": {
    "tags": []
   },
   "source": [
    "# Process Data"
   ]
  },
  {
   "cell_type": "code",
   "execution_count": null,
   "id": "6dcc2942-20c6-4f85-9a5c-99e1fd804d55",
   "metadata": {},
   "outputs": [],
   "source": [
    "house_data.rename(columns = {'Address':'address'}, inplace = True)"
   ]
  },
  {
   "cell_type": "code",
   "execution_count": null,
   "id": "b7ba9ef1-759b-4bbe-9830-690a55d24e23",
   "metadata": {},
   "outputs": [],
   "source": [
    "house_data.columns"
   ]
  },
  {
   "cell_type": "code",
   "execution_count": null,
   "id": "5b0b2365-7b02-4c4d-b397-e6e6844f59a5",
   "metadata": {},
   "outputs": [],
   "source": [
    "# Merge dataframe of two data csv files\n",
    "df = pd.merge(poi_data,house_data\n",
    "              [['address','latitude','longitude','Transaction Date','Total Cost(NTD)',\n",
    "                'Cost per Sqaure Meter','Building Completion Date','Transacted Floor',\n",
    "                'Total Floor','Total Area Transacted (Sqaure Meter)','Bed Rooms',\n",
    "                'Living/Dining Rooms', 'Bathrooms','Main construction Method',\n",
    "                'Type of Building']],\n",
    "              on='address', how='left')"
   ]
  },
  {
   "cell_type": "code",
   "execution_count": null,
   "id": "abf170dc-7dab-479b-802e-5ea0378378bd",
   "metadata": {},
   "outputs": [],
   "source": [
    "df = df[~df['Transacted Floor'].str.contains('，')]"
   ]
  },
  {
   "cell_type": "code",
   "execution_count": null,
   "id": "edc47698-9d2a-4cfa-9a9f-b8f695568484",
   "metadata": {},
   "outputs": [],
   "source": [
    "df['Type of Building'].value_counts()"
   ]
  },
  {
   "cell_type": "code",
   "execution_count": null,
   "id": "8d1e0433-5aad-49df-ba95-7753d29fe80a",
   "metadata": {},
   "outputs": [],
   "source": [
    "df.loc[df['Type of Building'] == \"Store (1F)(店鋪)\", \"Type of Building\"] = 'Others'\n",
    "df.loc[df['Type of Building'] == \"Office Building \", \"Type of Building\"] = 'Others'"
   ]
  },
  {
   "cell_type": "code",
   "execution_count": null,
   "id": "3fbbc2b3-ef5f-4b4b-b296-ecf7d27c8c74",
   "metadata": {},
   "outputs": [],
   "source": [
    "df"
   ]
  },
  {
   "cell_type": "code",
   "execution_count": null,
   "id": "5defe07a-7bbc-4818-858a-2230cea349cb",
   "metadata": {},
   "outputs": [],
   "source": [
    "construction_method_other = ['Brick', 'Steel Constructurer', 'Reinforced Concrete and Reinforced Brick', 'Prestressed Concrete']\n",
    "df.loc[df[\"Main construction Method\"] == \"Steel Constructurer\", \"Main construction Method\"] = 'Other'\n",
    "df.loc[df[\"Main construction Method\"] == \"Brick\", \"Main construction Method\"] = 'Other'\n",
    "df.loc[df[\"Main construction Method\"] == 'Reinforced Concrete and Reinforced Brick',\"Main construction Method\"] = 'Other'\n",
    "df.loc[df[\"Main construction Method\"] == \"Prestressed Concrete\",\"Main construction Method\"] = 'Other'"
   ]
  },
  {
   "cell_type": "code",
   "execution_count": null,
   "id": "17b097a2-7358-4789-a7a2-9b22ccdb5eb7",
   "metadata": {},
   "outputs": [],
   "source": [
    "drop_list = ['全','三11','地下1', '三13','地下層']\n",
    "for i in drop_list:\n",
    "    df = df[~df['Transacted Floor'].str.contains(i)]"
   ]
  },
  {
   "cell_type": "code",
   "execution_count": null,
   "id": "05bc02d0-ef9d-40b9-b9c4-e26f3973ce2e",
   "metadata": {},
   "outputs": [],
   "source": [
    "df['Transacted Floor']=df['Transacted Floor'].astype('int')"
   ]
  },
  {
   "cell_type": "code",
   "execution_count": null,
   "id": "d7ae9a24-9e5e-41e9-9623-53efa5e9d8f2",
   "metadata": {},
   "outputs": [],
   "source": [
    "# clean #value error rows \n",
    "df = df[~df['Building Completion Date'].str.contains('#VALUE!')]"
   ]
  },
  {
   "cell_type": "code",
   "execution_count": null,
   "id": "a1ca584e-af8a-4304-b0c1-2547109cd5c8",
   "metadata": {},
   "outputs": [],
   "source": [
    "df.loc[:,'Building Completion Date'] = pd.to_datetime(df['Building Completion Date'])"
   ]
  },
  {
   "cell_type": "code",
   "execution_count": null,
   "id": "957f03b9-de90-4c68-8011-05dd165d4834",
   "metadata": {},
   "outputs": [],
   "source": [
    "df['transaction year'] = df['Transaction Date'].apply(lambda x:x[:4])\n",
    "df['transaction year'] = df['transaction year'].astype('int')\n",
    "df = df[df['transaction year']<=2022]\n",
    "df['Transaction Date'] = pd.to_datetime(df['Transaction Date'])\n",
    "df['time delta'] = df['Transaction Date'] - df['Building Completion Date']"
   ]
  },
  {
   "cell_type": "code",
   "execution_count": null,
   "id": "a794c350-8889-40fa-a211-574ddbc1f1e5",
   "metadata": {},
   "outputs": [],
   "source": [
    "df['time delta year'] = df['time delta'].astype(\"timedelta64[Y]\")"
   ]
  },
  {
   "cell_type": "markdown",
   "id": "6d7e59a9-9bf0-4407-9c51-77d8565ac461",
   "metadata": {
    "tags": []
   },
   "source": [
    "# Initital Map"
   ]
  },
  {
   "cell_type": "code",
   "execution_count": null,
   "id": "d5f5f3d1-acb1-4564-93ed-9c27b3806643",
   "metadata": {},
   "outputs": [],
   "source": [
    "taipei_center = [25.048651234895363, 121.54614479464894]\n",
    "m = folium.Map(taipei_center, zoom_start=12)\n",
    "marker_colors = ['red','blue','gray','orange','green','purple','darkpurple','pink','cadetblue','lightgray','black']"
   ]
  },
  {
   "cell_type": "code",
   "execution_count": null,
   "id": "6095c58c-2315-489e-a9f3-2ca50ac4e5aa",
   "metadata": {},
   "outputs": [],
   "source": [
    "m"
   ]
  },
  {
   "cell_type": "markdown",
   "id": "fb72dca5-a48d-491f-a1ff-352afbb24dca",
   "metadata": {
    "tags": []
   },
   "source": [
    "## Raw data based on Total Price"
   ]
  },
  {
   "cell_type": "code",
   "execution_count": null,
   "id": "7623522c-1735-4055-afff-aae70f209290",
   "metadata": {},
   "outputs": [],
   "source": [
    "df_price = df[['latitude','longitude','Total Cost(NTD)','address']].copy()\n",
    "start_coord = (25.048651234895363, 121.54614479464894)\n",
    "\n",
    "colormap = cm.LinearColormap(colors=['lightblue','blue','darkblue','red'],vmin=5000000,vmax=80000000)\n",
    "\n",
    "maps = folium.Map(location=start_coord, zoom_start=12)\n",
    "\n",
    "for index, row in df_price.iterrows():\n",
    "    pop_info = 'Address:' + row['address'] + \"Total Cost (NTD):\" + str(row['Total Cost(NTD)']) + \"Lat/Lon:\" + str(row['latitude']) + str(row['longitude'])\n",
    "    folium.CircleMarker([row['latitude'], row['longitude']],\n",
    "                        radius=2,color=colormap(row['Total Cost(NTD)']), popup=(pop_info)).add_to(maps)\n",
    "maps.add_child(colormap)\n",
    "display(maps)"
   ]
  },
  {
   "cell_type": "markdown",
   "id": "eed21302-b09a-4e9d-b521-a91b60c2ce04",
   "metadata": {
    "tags": []
   },
   "source": [
    "## Raw data based on Cost per squaremeter "
   ]
  },
  {
   "cell_type": "code",
   "execution_count": null,
   "id": "b82426e1-7818-4cbf-9c49-6243f39f2306",
   "metadata": {},
   "outputs": [],
   "source": [
    "df_price_m2 = df[['latitude','longitude','Cost per Sqaure Meter','address']].copy()\n",
    "start_coord = (25.048651234895363, 121.54614479464894)\n",
    "\n",
    "colormap = cm.LinearColormap(colors=['lightblue','blue','red'],vmin=100000,vmax=400000)\n",
    "maps2 = folium.Map(location=start_coord, zoom_start=12)\n",
    "\n",
    "for index, row in df_price_m2.iterrows():\n",
    "    pop_info = 'Address:' + row['address'] + \"Total Cost (NTD):\" + str(row['Cost per Sqaure Meter']) + \"Lat/Lon:\" + str(row['latitude']) + str(row['longitude'])\n",
    "    folium.CircleMarker([row['latitude'], row['longitude']],\n",
    "                        radius=2,color=colormap(row['Cost per Sqaure Meter']), popup=(pop_info)).add_to(maps2)\n",
    "maps2.add_child(colormap)\n",
    "display(maps2)"
   ]
  },
  {
   "cell_type": "markdown",
   "id": "2715f466-c76f-4997-bf1e-be89323253fd",
   "metadata": {
    "tags": []
   },
   "source": [
    "# Clustering"
   ]
  },
  {
   "cell_type": "markdown",
   "id": "45ec8ece-57c8-444b-afc2-0d338eb2f11b",
   "metadata": {},
   "source": [
    "## Only POI Cluster"
   ]
  },
  {
   "cell_type": "markdown",
   "id": "62239222-8f8f-451d-b13f-52380ee98650",
   "metadata": {
    "tags": []
   },
   "source": [
    "### POI 500m "
   ]
  },
  {
   "cell_type": "code",
   "execution_count": null,
   "id": "659ea780-9a2e-4a2d-b516-ccdd28a339af",
   "metadata": {},
   "outputs": [],
   "source": [
    "def draw_map(df, marker_colors, label):\n",
    "    for index, row in df.iterrows():\n",
    "        for i in range(len(marker_colors)):\n",
    "                       if row[label] == i:\n",
    "                           folium.CircleMarker([row['latitude'], row['longitude']],\n",
    "                            radius=3,color=marker_colors[i],tooltip=(row['address'],\n",
    "                            row['Total Cost(NTD)'],row['Cost per Sqaure Meter'])).add_to(m)\n",
    "    return m"
   ]
  },
  {
   "cell_type": "code",
   "execution_count": null,
   "id": "f7202e90-9d54-4361-bcef-dd21a9870977",
   "metadata": {},
   "outputs": [],
   "source": [
    "df_poi_500 = df.loc[:, ['police','hospital','shopping_mall',\n",
    "                 'subway_station','supermarket','park','church','library',\n",
    "                'night_club','university','primary_school','bus_station']]\n",
    "K_cluster = 4\n",
    "kmeans = KMeans(init=\"random\", n_clusters= K_cluster, n_init=10, max_iter=300, random_state=42)\n",
    "kmeans.fit(df_poi_500)\n",
    "df['500_label'] = kmeans.labels_"
   ]
  },
  {
   "cell_type": "code",
   "execution_count": null,
   "id": "89330afc-f219-4866-9936-350e7cb9233f",
   "metadata": {},
   "outputs": [],
   "source": [
    "draw_map(df, marker_colors, '500_label')"
   ]
  },
  {
   "cell_type": "markdown",
   "id": "2bea06da-9e0f-40e8-8570-f4ce1e6dc997",
   "metadata": {
    "jp-MarkdownHeadingCollapsed": true,
    "tags": []
   },
   "source": [
    "### POI 1000m / 1km"
   ]
  },
  {
   "cell_type": "code",
   "execution_count": null,
   "id": "c00d4040-a2fd-4792-b519-963006bd6e3f",
   "metadata": {},
   "outputs": [],
   "source": [
    "df_poi_1km = df.loc[:, ['police.1','hospital.1','shopping_mall.1',\n",
    "                 'subway_station.1','supermarket.1','park.1','church.1','library.1',\n",
    "                'night_club.1','university.1','primary_school.1','bus_station.1']]\n",
    "K_cluster = 4\n",
    "kmeans = KMeans(init=\"random\", n_clusters= K_cluster, n_init=10, max_iter=300, random_state=42)\n",
    "kmeans.fit(df_poi_1km)\n",
    "df['1km_label'] = kmeans.labels_"
   ]
  },
  {
   "cell_type": "code",
   "execution_count": null,
   "id": "9c957d18-557f-43f5-ac4b-2e4186366bcd",
   "metadata": {},
   "outputs": [],
   "source": [
    "draw_map(df, marker_colors, '1km_label')"
   ]
  },
  {
   "cell_type": "markdown",
   "id": "590fe445-82f2-414d-80e3-394f93899cda",
   "metadata": {
    "jp-MarkdownHeadingCollapsed": true,
    "tags": []
   },
   "source": [
    "### POI 3000m / 3km"
   ]
  },
  {
   "cell_type": "code",
   "execution_count": null,
   "id": "53c3ea7d-e7e7-470d-99c3-4bf26fd49383",
   "metadata": {},
   "outputs": [],
   "source": [
    "df_poi_3km = df.loc[:, ['police.2','hospital.2','shopping_mall.2',\n",
    "                 'subway_station.2','supermarket.2','park.2','church.2','library.2',\n",
    "                'night_club.2','university.2','primary_school.2','bus_station.2']]\n",
    "K_cluster = 4\n",
    "kmeans = KMeans(init=\"random\", n_clusters= K_cluster, n_init=10, max_iter=300, random_state=42)\n",
    "kmeans.fit(df_poi_3km)\n",
    "df['3km_label'] = kmeans.labels_"
   ]
  },
  {
   "cell_type": "code",
   "execution_count": null,
   "id": "cd72d0bf-004a-41b4-bb56-4fb79b63ef1d",
   "metadata": {},
   "outputs": [],
   "source": [
    "draw_map(df, marker_colors, '3km_label')"
   ]
  },
  {
   "cell_type": "markdown",
   "id": "dc68e25f-2b34-40c0-913c-13d5a5f0ecc2",
   "metadata": {},
   "source": [
    "## POI + Price (Cost/m2)"
   ]
  },
  {
   "cell_type": "markdown",
   "id": "ff5db21f-32da-41dd-a500-77169f481024",
   "metadata": {
    "tags": []
   },
   "source": [
    "### POI 500m + Price "
   ]
  },
  {
   "cell_type": "code",
   "execution_count": null,
   "id": "10cbfc13-390f-4b7b-a807-74c7f68e1e63",
   "metadata": {},
   "outputs": [],
   "source": [
    "df_poi_500_price = df.loc[:, ['Cost per Sqaure Meter','police','hospital','shopping_mall',\n",
    "                 'subway_station','supermarket','park','church','library',\n",
    "                'night_club','university','primary_school','bus_station']]\n",
    "K_cluster = 4\n",
    "kmeans = KMeans(init=\"random\", n_clusters= K_cluster, n_init=10, max_iter=300, random_state=42)\n",
    "kmeans.fit(df_poi_500_price)\n",
    "df['500_price_label'] = kmeans.labels_"
   ]
  },
  {
   "cell_type": "code",
   "execution_count": null,
   "id": "f7584346-6e20-43d4-949d-a6549be5e505",
   "metadata": {},
   "outputs": [],
   "source": [
    "draw_map(df, marker_colors, '500_price_label')"
   ]
  },
  {
   "cell_type": "markdown",
   "id": "cd580769-777d-4d57-aa5f-733fe582e7b1",
   "metadata": {
    "tags": []
   },
   "source": [
    "### POI 1000m / 1km"
   ]
  },
  {
   "cell_type": "code",
   "execution_count": null,
   "id": "e2ede6f7-b525-42ce-8247-05be6e03d557",
   "metadata": {},
   "outputs": [],
   "source": [
    "df_poi_1km_price = df.loc[:, ['Cost per Sqaure Meter','shopping_mall.1',\n",
    "                 'subway_station.1','supermarket.1','park.1','church.1','library.1',\n",
    "                'night_club.1','university.1','primary_school.1','bus_station.1']]\n",
    "K_cluster = 4\n",
    "kmeans = KMeans(init=\"random\", n_clusters= K_cluster, n_init=10, max_iter=300, random_state=42)\n",
    "kmeans.fit(df_poi_1km_price)\n",
    "df['1km_price_label'] = kmeans.labels_"
   ]
  },
  {
   "cell_type": "code",
   "execution_count": null,
   "id": "1a2ed841-07cf-4d62-a424-466140514e9f",
   "metadata": {},
   "outputs": [],
   "source": [
    "draw_map(df, marker_colors, '1km_price_label')"
   ]
  },
  {
   "cell_type": "markdown",
   "id": "59d504bf-d722-41fd-8363-e28df0942496",
   "metadata": {
    "tags": []
   },
   "source": [
    "### POI 3000m / 3km"
   ]
  },
  {
   "cell_type": "code",
   "execution_count": null,
   "id": "a2601be6-b24d-4e09-86bc-1fecb3cadc38",
   "metadata": {},
   "outputs": [],
   "source": [
    "df_poi_3km_price = df.loc[:, ['Cost per Sqaure Meter','police.2','hospital.2','shopping_mall.2',\n",
    "                 'subway_station.2','supermarket.2','park.2','church.2','library.2',\n",
    "                'night_club.2','university.2','primary_school.2','bus_station.2']]\n",
    "K_cluster = 4\n",
    "kmeans = KMeans(init=\"random\", n_clusters= K_cluster, n_init=10, max_iter=300, random_state=42)\n",
    "kmeans.fit(df_poi_3km_price)\n",
    "df['3km_price_label'] = kmeans.labels_"
   ]
  },
  {
   "cell_type": "code",
   "execution_count": null,
   "id": "2700e739-e464-4cab-a3c5-01ec70ccb0ea",
   "metadata": {},
   "outputs": [],
   "source": [
    "draw_map(df, marker_colors, '3km_price_label')"
   ]
  },
  {
   "cell_type": "markdown",
   "id": "d530e924-c7b6-48fd-bc20-3cfb91b07b92",
   "metadata": {},
   "source": [
    "## Only House Properties "
   ]
  },
  {
   "cell_type": "code",
   "execution_count": null,
   "id": "33e78443-83c4-45e4-87a7-260977e9f7d0",
   "metadata": {},
   "outputs": [],
   "source": [
    "df.columns"
   ]
  },
  {
   "cell_type": "code",
   "execution_count": null,
   "id": "2f290758-4e42-4c83-a604-127cd3503f3d",
   "metadata": {},
   "outputs": [],
   "source": [
    "# Merge dataframe of two data csv files\n",
    "house_df = df[['address','latitude', 'longitude', 'Total Cost(NTD)',\n",
    "       'Cost per Sqaure Meter', 'Transacted Floor',\n",
    "       'Total Floor', 'Total Area Transacted (Sqaure Meter)', 'Bed Rooms',\n",
    "       'Living/Dining Rooms', 'Bathrooms', 'Main construction Method',\n",
    "       'Type of Building','time delta year']].copy()"
   ]
  },
  {
   "cell_type": "code",
   "execution_count": null,
   "id": "ce556066-bc4e-4189-a966-6228966ae2a8",
   "metadata": {},
   "outputs": [],
   "source": [
    "house_df = pd.get_dummies(house_df, columns = ['Main construction Method','Type of Building'])"
   ]
  },
  {
   "cell_type": "code",
   "execution_count": null,
   "id": "71c50db7-08af-40ad-835e-b48f3cfbc227",
   "metadata": {},
   "outputs": [],
   "source": [
    "house_df_temp = house_df.copy()\n",
    "house_df_temp = house_df_temp.drop(['address','latitude', 'longitude', 'Total Cost(NTD)','Cost per Sqaure Meter','Total Floor'], axis=1)"
   ]
  },
  {
   "cell_type": "code",
   "execution_count": null,
   "id": "27a76625-7781-489e-ae3b-c91de5e58685",
   "metadata": {},
   "outputs": [],
   "source": [
    "house_df_temp"
   ]
  },
  {
   "cell_type": "code",
   "execution_count": null,
   "id": "2978112f-7528-4a24-968e-b21930c8072c",
   "metadata": {},
   "outputs": [],
   "source": [
    "K_cluster = 3\n",
    "kmeans = KMeans(init=\"random\", n_clusters= K_cluster, n_init=10, max_iter=300, random_state=42)\n",
    "kmeans.fit(house_df_temp)\n",
    "df['house_no_price_label'] = kmeans.labels_"
   ]
  },
  {
   "cell_type": "code",
   "execution_count": null,
   "id": "5ce909ae-94d3-4a07-a8b5-e532f6dbd577",
   "metadata": {},
   "outputs": [],
   "source": [
    "draw_map(df, marker_colors, 'house_no_price_label')"
   ]
  },
  {
   "cell_type": "code",
   "execution_count": null,
   "id": "7885eabb-0fbe-4321-b02f-10f7145bebb6",
   "metadata": {},
   "outputs": [],
   "source": [
    "house_df_temp = house_df.copy()\n",
    "house_df_temp = house_df_temp.drop(['address','latitude', 'longitude', 'Total Cost(NTD)','Total Floor'], axis=1)"
   ]
  },
  {
   "cell_type": "code",
   "execution_count": null,
   "id": "1394ba4a-2ac3-4d57-814d-84a8616c5e06",
   "metadata": {},
   "outputs": [],
   "source": [
    "K_cluster = 3\n",
    "kmeans = KMeans(init=\"random\", n_clusters= K_cluster, n_init=10, max_iter=300, random_state=42)\n",
    "kmeans.fit(house_df_temp)\n",
    "df['house_price_label'] = kmeans.labels_"
   ]
  },
  {
   "cell_type": "code",
   "execution_count": null,
   "id": "a4a0ec9e-13c9-4883-8d0b-fd71f13be7df",
   "metadata": {},
   "outputs": [],
   "source": [
    "draw_map(df, marker_colors, 'house_price_label')"
   ]
  },
  {
   "cell_type": "code",
   "execution_count": null,
   "id": "5a83eb48-61d1-43bc-bbef-fc8cb3111b19",
   "metadata": {},
   "outputs": [],
   "source": [
    "import json\n",
    "import requests\n",
    "taipei_district = pd.read_csv(\"2020_november_distrcit_activity.csv\")\n",
    "url = 'https://od.moi.gov.tw/api/v1/rest/datastore/301000100G-000887-003.json'\n",
    "with open('G97_A_CADIST_P.geojson', 'r') as f:\n",
    "    taipei_geo = json.load(f)    #for state level data"
   ]
  },
  {
   "cell_type": "code",
   "execution_count": null,
   "id": "aa701380-642d-4b89-be1d-1a6f64546f11",
   "metadata": {},
   "outputs": [],
   "source": [
    "taipei_district"
   ]
  },
  {
   "cell_type": "code",
   "execution_count": null,
   "id": "afeb15c8-e2ab-4046-9d4b-7cc50dbebfc2",
   "metadata": {},
   "outputs": [],
   "source": [
    "taipei_district['TOWN_ID'] = taipei_district['TOWN_ID'].astype(str)\n",
    "taipei_district['CPID'] = '630' + taipei_district['TOWN_ID'].str[5:7]"
   ]
  },
  {
   "cell_type": "code",
   "execution_count": null,
   "id": "486d456d-06d6-4e15-a7cc-51b0c0448cf4",
   "metadata": {},
   "outputs": [],
   "source": [
    "import geopandas as gpd\n",
    "pdf_Taipei = gpd.read_file('G97_A_CADIST_P.geojson')\n",
    "pdf_Taipei"
   ]
  },
  {
   "cell_type": "code",
   "execution_count": null,
   "id": "88dd1ecb-58d9-49f9-a48f-131c8753455b",
   "metadata": {},
   "outputs": [],
   "source": [
    "url = (\n",
    "    \"https://raw.githubusercontent.com/python-visualization/folium/master/examples/data\"\n",
    ")\n",
    "state_geo = f\"{url}/us-states.json\"\n",
    "state_unemployment = f\"{url}/US_Unemployment_Oct2012.csv\"\n",
    "state_data = pd.read_csv(state_unemployment)\n",
    "\n",
    "m = folium.Map(location=[48, -102], zoom_start=3)\n",
    "\n",
    "folium.Choropleth(\n",
    "    geo_data=state_geo,\n",
    "    name=\"choropleth\",\n",
    "    data=state_data,\n",
    "    columns=[\"State\", \"Unemployment\"],\n",
    "    key_on=\"feature.id\",\n",
    "    fill_color=\"YlGn\",\n",
    "    fill_opacity=0.7,\n",
    "    line_opacity=0.2,\n",
    "    legend_name=\"Unemployment Rate (%)\",\n",
    ").add_to(m)\n",
    "\n",
    "folium.LayerControl().add_to(m)\n",
    "m"
   ]
  },
  {
   "cell_type": "code",
   "execution_count": null,
   "id": "6b679cfc-b13f-428f-abc9-3b2aeed5df71",
   "metadata": {},
   "outputs": [],
   "source": [
    "taipei_city = folium.Map(location=[25.048651234895363, 121.54614479464894], zoom_start=12)\n",
    "folium.Choropleth(\n",
    "    geo_data = pdf_Taipei[['CPID','geometry']],                  #json\n",
    "    name ='choropleth',                  \n",
    "    data = taipei_district,                     \n",
    "    columns = ['CPID', 'NIGHT_WORK'], #columns to work on\n",
    "    key_on ='feature.properties.CPID',\n",
    "    fill_color ='YlGnBu',     #I passed colors Yellow,Green,Blue\n",
    "    fill_opacity = 0,\n",
    "    line_opacity = 0.5,\n",
    "    legend_name = \"Unemployment scale\"\n",
    ").add_to(taipei_city)\n",
    "folium.LayerControl().add_to(taipei_city)\n",
    "taipei_city"
   ]
  },
  {
   "cell_type": "code",
   "execution_count": null,
   "id": "c7335540-bbb0-4be8-b43a-9a3328a2fd0a",
   "metadata": {},
   "outputs": [],
   "source": [
    "layer = folium.GeoJson(\n",
    "    data=(open('G97_A_CADIST_P.geojson', \"r\").read()),\n",
    "    name='geogeo',\n",
    ").add_to(taipei_city) # 1. keep a reference to GeoJSON layer\n",
    "\n",
    "taipei_city.fit_bounds(layer.get_bounds())"
   ]
  },
  {
   "cell_type": "code",
   "execution_count": null,
   "id": "579880ef-00f7-49e2-8e29-8fe884026e63",
   "metadata": {},
   "outputs": [],
   "source": [
    "taipei_city"
   ]
  },
  {
   "cell_type": "code",
   "execution_count": null,
   "id": "5cafeb65-2eab-4db1-b356-06793674c744",
   "metadata": {},
   "outputs": [],
   "source": [
    "taipei_city = folium.Map(location=[25.048651234895363, 121.54614479464894], zoom_start=12)\n",
    "\n",
    "folium.Choropleth(\n",
    "    geo_data = 'G97_A_CADIST_P.geojson',                  #json\n",
    "    name ='choropleth',                  \n",
    "    data = taipei_district,                     \n",
    "    columns = ['CPID', 'NIGHT_WORK'], #columns to work on\n",
    "    key_on ='feature.properties.CPID',\n",
    "    fill_color ='YlGnBu',     #I passed colors Yellow,Green,Blue\n",
    "    fill_opacity = 0,\n",
    "    line_opacity = 0,\n",
    "    legend_name = \"Unemployment scale\"\n",
    ").add_to(taipei_city)\n",
    "taipei_city"
   ]
  },
  {
   "cell_type": "code",
   "execution_count": null,
   "id": "2d7f9007-bcf8-4ed2-9e77-32921d94c0fb",
   "metadata": {},
   "outputs": [],
   "source": [
    "taipei_city = folium.Map(location=[25.048651234895363, 121.54614479464894], zoom_start=12)\n",
    "taipei_city"
   ]
  },
  {
   "cell_type": "code",
   "execution_count": null,
   "id": "dc0b41e9-575f-461d-8a24-101a167b53da",
   "metadata": {},
   "outputs": [],
   "source": [
    "taipei_city.geo_json(geo_path='G97_A_CADIST_P.geojson')"
   ]
  },
  {
   "cell_type": "code",
   "execution_count": null,
   "id": "64836a76-4a3e-4d04-b64f-0a3e8b6078da",
   "metadata": {},
   "outputs": [],
   "source": [
    "taipei_district"
   ]
  },
  {
   "cell_type": "code",
   "execution_count": null,
   "id": "a761f3a9-79e6-4b98-94bc-80d4ddefef01",
   "metadata": {},
   "outputs": [],
   "source": []
  }
 ],
 "metadata": {
  "kernelspec": {
   "display_name": "Python 3 (ipykernel)",
   "language": "python",
   "name": "python3"
  },
  "language_info": {
   "codemirror_mode": {
    "name": "ipython",
    "version": 3
   },
   "file_extension": ".py",
   "mimetype": "text/x-python",
   "name": "python",
   "nbconvert_exporter": "python",
   "pygments_lexer": "ipython3",
   "version": "3.9.12"
  }
 },
 "nbformat": 4,
 "nbformat_minor": 5
}
